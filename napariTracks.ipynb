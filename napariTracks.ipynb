{
 "cells": [
  {
   "cell_type": "markdown",
   "id": "ad968159",
   "metadata": {},
   "source": [
    "# Viewing Tracks in Napari\n",
    "Laura Cooper, 12/01/2022\n",
    "\n",
    "Based on [Single Cell Tracking Napari Tutorial](https://napari.org/tutorials/tracking/cell_tracking.html). Data from [Cell Tracking Challenge](http://celltrackingchallenge.net/3d-datasets/)"
   ]
  },
  {
   "cell_type": "markdown",
   "id": "d4c2f1b4",
   "metadata": {},
   "source": [
    "### Packages"
   ]
  },
  {
   "cell_type": "code",
   "execution_count": null,
   "id": "24a9d16a",
   "metadata": {},
   "outputs": [],
   "source": [
    "import os\n",
    "import napari\n",
    "\n",
    "import numpy as np\n",
    "import pandas as pd\n",
    "\n",
    "from skimage.io import imread\n",
    "from skimage.measure import regionprops_table"
   ]
  },
  {
   "cell_type": "markdown",
   "id": "64da181e",
   "metadata": {},
   "source": [
    "### Definitions"
   ]
  },
  {
   "cell_type": "code",
   "execution_count": null,
   "id": "12eed7ff",
   "metadata": {},
   "outputs": [],
   "source": [
    "PATH = 'Fluo-N3DH-CE/'\n",
    "NUM_IMAGES = 195"
   ]
  },
  {
   "cell_type": "markdown",
   "id": "363cd2bb",
   "metadata": {},
   "source": [
    "### Define functions"
   ]
  },
  {
   "cell_type": "code",
   "execution_count": null,
   "id": "86f05733",
   "metadata": {},
   "outputs": [],
   "source": [
    "def load_image(idx: int):\n",
    "    \"\"\"Load an image from the sequence.\n",
    "\n",
    "    Parameters\n",
    "    ----------\n",
    "    idx : int\n",
    "        Index of the image to load.\n",
    "\n",
    "    Returns\n",
    "    -------\n",
    "    image : np.ndarray\n",
    "       The image specified by the index, idx\n",
    "    \"\"\"\n",
    "    filename = os.path.join(PATH, '01_GT/TRA', f'man_track{idx:0>3}.tif')\n",
    "    return imread(filename)"
   ]
  },
  {
   "cell_type": "code",
   "execution_count": null,
   "id": "f03e7bf8",
   "metadata": {},
   "outputs": [],
   "source": [
    "def regionprops_plus_time(idx):\n",
    "    \"\"\"Return the unique track label, centroid and time for each track vertex.\n",
    "\n",
    "    Parameters\n",
    "    ----------\n",
    "    idx : int\n",
    "        Index of the image to calculate the centroids and track labels.\n",
    "\n",
    "    Returns\n",
    "    -------\n",
    "    data_df : pd.DataFrame\n",
    "       The dataframe of track data for one time step (specified by idx).\n",
    "    \"\"\"\n",
    "    props = regionprops_table(stack[idx, ...], properties=('label', 'centroid'))\n",
    "    props['frame'] = np.full(props['label'].shape, idx)\n",
    "    return pd.DataFrame(props)"
   ]
  },
  {
   "cell_type": "code",
   "execution_count": null,
   "id": "25a59e17",
   "metadata": {},
   "outputs": [],
   "source": [
    "def root(node: int):\n",
    "    \"\"\"Recursive function to determine the root node of each subgraph.\n",
    "\n",
    "    Parameters\n",
    "    ----------\n",
    "    node : int\n",
    "        the track_id of the starting graph node.\n",
    "\n",
    "    Returns\n",
    "    -------\n",
    "    root_id : int\n",
    "       The track_id of the root of the track specified by node.\n",
    "    \"\"\"\n",
    "    if full_graph[node] == 0:  # we found the root\n",
    "        return node\n",
    "    return root(full_graph[node])"
   ]
  },
  {
   "cell_type": "markdown",
   "id": "9181d95c",
   "metadata": {},
   "source": [
    "### Get data to be displayed"
   ]
  },
  {
   "cell_type": "code",
   "execution_count": null,
   "id": "77597b21",
   "metadata": {},
   "outputs": [],
   "source": [
    "# Read in image data - manually annotated\n",
    "stack = np.asarray([load_image(i) for i in range(NUM_IMAGES)])\n",
    "\n",
    "# Find the centroid of each cell\n",
    "data_df_raw = pd.concat(\n",
    "    [regionprops_plus_time(idx) for idx in range(NUM_IMAGES)]\n",
    ").reset_index(drop=True)\n",
    "# sort the data lexicographically by track_id and time\n",
    "data_df = data_df_raw.sort_values(['label', 'frame'], ignore_index=True)\n",
    "\n",
    "# create the final data array: track_id, T, Z, Y, X\n",
    "data = data_df.loc[\n",
    "    :, ['label', 'frame', 'centroid-0', 'centroid-1', 'centroid-2']\n",
    "].to_numpy()"
   ]
  },
  {
   "cell_type": "markdown",
   "id": "632acd2c",
   "metadata": {},
   "source": [
    "### View Manual Annotations"
   ]
  },
  {
   "cell_type": "code",
   "execution_count": null,
   "id": "09c4b4af",
   "metadata": {},
   "outputs": [],
   "source": [
    "napari.view_image(stack, name='image')\n",
    "napari.run()"
   ]
  },
  {
   "cell_type": "markdown",
   "id": "7ce040e0",
   "metadata": {},
   "source": [
    "### View Tracklets"
   ]
  },
  {
   "cell_type": "code",
   "execution_count": null,
   "id": "73d66fd8",
   "metadata": {},
   "outputs": [],
   "source": [
    "napari.view_tracks(data, name='tracklets')\n",
    "napari.run()"
   ]
  },
  {
   "cell_type": "markdown",
   "id": "54d0bbdb",
   "metadata": {},
   "source": [
    "### Create graph to represent associations between tracks"
   ]
  },
  {
   "cell_type": "code",
   "execution_count": null,
   "id": "21a22c46",
   "metadata": {},
   "outputs": [],
   "source": [
    "lbep = np.loadtxt(os.path.join(PATH, '01_GT/TRA', 'man_track.txt'), dtype=np.uint)\n",
    "full_graph = dict(lbep[:, [0, 3]])\n",
    "graph = {k: v for k, v in full_graph.items() if v != 0}"
   ]
  },
  {
   "cell_type": "markdown",
   "id": "9f28d87d",
   "metadata": {},
   "source": [
    "### Get root node for lineage trees"
   ]
  },
  {
   "cell_type": "code",
   "execution_count": null,
   "id": "003a821e",
   "metadata": {},
   "outputs": [],
   "source": [
    "roots = {k: root(k) for k in full_graph.keys()}\n",
    "properties = {'root_id': [roots[idx] for idx in data[:, 0]]}"
   ]
  },
  {
   "cell_type": "markdown",
   "id": "56975cd7",
   "metadata": {},
   "source": [
    "### Read in original image data"
   ]
  },
  {
   "cell_type": "code",
   "execution_count": null,
   "id": "3da8435d",
   "metadata": {},
   "outputs": [],
   "source": [
    "timelapse = np.asarray(\n",
    "    [imread(os.path.join(PATH, '01', f't{i:0>3}.tif')) for i in range(NUM_IMAGES)]\n",
    ")"
   ]
  },
  {
   "cell_type": "markdown",
   "id": "282b8ba6",
   "metadata": {},
   "source": [
    "### Visualise tracks and cells"
   ]
  },
  {
   "cell_type": "code",
   "execution_count": null,
   "id": "b47a6728",
   "metadata": {},
   "outputs": [],
   "source": [
    "# scale factor for dimensions in TZYX order\n",
    "SCALE = (1.0, 1.0, 0.09, 0.09)\n",
    "\n",
    "viewer = napari.Viewer()\n",
    "viewer.add_image(timelapse, scale=SCALE, name='Fluo-N3DH-CE')\n",
    "viewer.add_tracks(data, properties=properties, graph=graph, scale=SCALE, name='tracks')\n",
    "napari.run()"
   ]
  },
  {
   "cell_type": "code",
   "execution_count": null,
   "id": "c50ae14e",
   "metadata": {},
   "outputs": [],
   "source": []
  }
 ],
 "metadata": {
  "kernelspec": {
   "display_name": "Python 3",
   "language": "python",
   "name": "python3"
  },
  "language_info": {
   "codemirror_mode": {
    "name": "ipython",
    "version": 3
   },
   "file_extension": ".py",
   "mimetype": "text/x-python",
   "name": "python",
   "nbconvert_exporter": "python",
   "pygments_lexer": "ipython3",
   "version": "3.9.9"
  }
 },
 "nbformat": 4,
 "nbformat_minor": 5
}
